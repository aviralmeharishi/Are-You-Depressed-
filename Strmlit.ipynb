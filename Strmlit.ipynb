{
 "cells": [
  {
   "cell_type": "code",
   "execution_count": 1,
   "metadata": {},
   "outputs": [
    {
     "name": "stdout",
     "output_type": "stream",
     "text": [
      "Writing app.py\n"
     ]
    }
   ],
   "source": [
    "%%writefile app.py\n",
    "\n",
    "import streamlit as st\n",
    "import numpy as np\n",
    "import pandas as pd\n",
    "import pickle\n",
    "\n",
    "with open('final_model.pkl', 'rb') as file:\n",
    "    model = pickle.load(file)\n",
    "\n",
    "\n",
    "def prediction(input_list):\n",
    "\n",
    "    input_list = np.array(input_list, dtype = object)\n",
    "\n",
    "    pred = model.predict_proba([input_list])[:,1][0]\n",
    "\n",
    "    if pred > 0.5:\n",
    "        return f'''You are more prone to depression\n",
    "Your Chances of being depressed are {round(pred,2)} \n",
    "So TAKE CARE :)'''\n",
    "    else:\n",
    "        return f'''You are less prone to depression\n",
    "Your Chances of being depressed are {round(pred,2)} \n",
    "So TAKE CARE :)'''\n",
    "\n",
    "\n",
    "\n",
    "def main():\n",
    "    st.title('ARE YOU DEPRESSED!!!')\n",
    "    ag = st.text_input('Enter Your Age Please')\n",
    "    fhmi = st.selectbox('Do You Have Any family History of Mental Illness ', ['Yes', 'No'])\n",
    "    gen = st.selectbox('Please tell Your Gender', ['Male', 'Female'])\n",
    "    suc = st.selectbox('Have You Ever Have Sucidal Thoughts ', ['Yes', 'No'])\n",
    "    wp = st.selectbox('Are You a Working Professional or Student', ['Working Professional', 'Student'])\n",
    "\n"
   ]
  },
  {
   "cell_type": "code",
   "execution_count": null,
   "metadata": {},
   "outputs": [],
   "source": []
  }
 ],
 "metadata": {
  "kernelspec": {
   "display_name": "base",
   "language": "python",
   "name": "python3"
  },
  "language_info": {
   "codemirror_mode": {
    "name": "ipython",
    "version": 3
   },
   "file_extension": ".py",
   "mimetype": "text/x-python",
   "name": "python",
   "nbconvert_exporter": "python",
   "pygments_lexer": "ipython3",
   "version": "3.12.7"
  }
 },
 "nbformat": 4,
 "nbformat_minor": 2
}
